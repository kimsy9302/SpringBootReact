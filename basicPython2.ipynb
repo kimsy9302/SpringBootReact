{
 "cells": [
  {
   "cell_type": "code",
   "execution_count": 29,
   "id": "70b0658f-1c6f-40f5-9e1c-2c8afe7c2999",
   "metadata": {},
   "outputs": [],
   "source": [
    "class Calculator:\n",
    "    def __init__(self,a):\n",
    "        self.vv=a\n",
    "        self.result=0\n",
    "    def clear(self):\n",
    "         self.result=0\n",
    "    def add(self, num):\n",
    "        self.result+= num+self.vv\n",
    "        return self.result"
   ]
  },
  {
   "cell_type": "code",
   "execution_count": 30,
   "id": "7daf41c7-da0f-4823-ad5f-cbba127b2b7f",
   "metadata": {},
   "outputs": [],
   "source": [
    "cal1 = Calculator(7)\n",
    "cal2 = Calculator(10)"
   ]
  },
  {
   "cell_type": "code",
   "execution_count": 32,
   "id": "fb67eabc-5f5c-4107-8fa0-42fda0a0e373",
   "metadata": {},
   "outputs": [
    {
     "data": {
      "text/plain": [
       "10"
      ]
     },
     "execution_count": 32,
     "metadata": {},
     "output_type": "execute_result"
    }
   ],
   "source": [
    "cal1.clear()\n",
    "cal1.add(3)"
   ]
  },
  {
   "cell_type": "code",
   "execution_count": 54,
   "id": "6d72381f-6091-49a3-9a94-2cf00507f00f",
   "metadata": {},
   "outputs": [],
   "source": [
    "class Calc:\n",
    "    def __init__(self,a,b):\n",
    "        self.va=a\n",
    "        self.vb=b\n",
    "        self.result=0\n",
    "    def clear(self):\n",
    "         self.result=0\n",
    "    def add(self, num1, num2):\n",
    "        self.result+= num1+num2\n",
    "        return self.result\n",
    "    def minus(self, num1, num2):\n",
    "        self.result+= num1-num2\n",
    "        return self.result\n",
    "    def mul(self, num1, num2):\n",
    "        self.result+= num1*num2\n",
    "        return self.result\n",
    "    def div(self, num1, num2):\n",
    "        self.result+= num1/num2\n",
    "        return self.result"
   ]
  },
  {
   "cell_type": "code",
   "execution_count": 55,
   "id": "7b2ef16a-94de-4f7f-bb16-3867002b2e6a",
   "metadata": {},
   "outputs": [
    {
     "data": {
      "text/plain": [
       "5"
      ]
     },
     "execution_count": 55,
     "metadata": {},
     "output_type": "execute_result"
    }
   ],
   "source": [
    "v = Calc(3,4)\n",
    "v.add(2,3)"
   ]
  },
  {
   "cell_type": "code",
   "execution_count": 56,
   "id": "eea0724a-eae4-4576-9864-85ed22dedb24",
   "metadata": {},
   "outputs": [
    {
     "data": {
      "text/plain": [
       "15.5"
      ]
     },
     "execution_count": 56,
     "metadata": {},
     "output_type": "execute_result"
    }
   ],
   "source": [
    "v.minus(3,4)\n",
    "v.mul(2,5)\n",
    "v.div(3,2)"
   ]
  }
 ],
 "metadata": {
  "kernelspec": {
   "display_name": "Python 3 (ipykernel)",
   "language": "python",
   "name": "python3"
  },
  "language_info": {
   "codemirror_mode": {
    "name": "ipython",
    "version": 3
   },
   "file_extension": ".py",
   "mimetype": "text/x-python",
   "name": "python",
   "nbconvert_exporter": "python",
   "pygments_lexer": "ipython3",
   "version": "3.12.7"
  }
 },
 "nbformat": 4,
 "nbformat_minor": 5
}
