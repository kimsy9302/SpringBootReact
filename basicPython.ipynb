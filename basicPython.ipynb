{
 "cells": [
  {
   "cell_type": "code",
   "execution_count": 7,
   "id": "363505a6-addf-485f-bcd2-289a2ae91202",
   "metadata": {},
   "outputs": [
    {
     "data": {
      "text/plain": [
       "'C:\\\\Users\\\\KSY'"
      ]
     },
     "execution_count": 7,
     "metadata": {},
     "output_type": "execute_result"
    }
   ],
   "source": [
    "pwd"
   ]
  },
  {
   "cell_type": "code",
   "execution_count": null,
   "id": "dc3d3ed4-6f57-4fc7-b847-877a38e2608e",
   "metadata": {},
   "outputs": [],
   "source": [
    "a=6"
   ]
  },
  {
   "cell_type": "markdown",
   "id": "327ef826-737f-40f6-a725-23cae8939f2d",
   "metadata": {},
   "source": [
    "<h1>사랑</h1>"
   ]
  },
  {
   "cell_type": "code",
   "execution_count": 1,
   "id": "81a31033-245f-4d9e-8bb2-86eb0a468344",
   "metadata": {},
   "outputs": [],
   "source": [
    "a={'a':6} #Dictionary"
   ]
  },
  {
   "cell_type": "code",
   "execution_count": 2,
   "id": "b461790d-98c7-4b0f-aad5-a418c83b58b7",
   "metadata": {},
   "outputs": [],
   "source": [
    "b=[1,2,3] #List"
   ]
  },
  {
   "cell_type": "markdown",
   "id": "da807c6c-e020-4e8d-9a0e-da7edc43825a",
   "metadata": {},
   "source": [
    "a['b']=13\n",
    "a"
   ]
  }
 ],
 "metadata": {
  "kernelspec": {
   "display_name": "Python 3 (ipykernel)",
   "language": "python",
   "name": "python3"
  },
  "language_info": {
   "codemirror_mode": {
    "name": "ipython",
    "version": 3
   },
   "file_extension": ".py",
   "mimetype": "text/x-python",
   "name": "python",
   "nbconvert_exporter": "python",
   "pygments_lexer": "ipython3",
   "version": "3.12.7"
  }
 },
 "nbformat": 4,
 "nbformat_minor": 5
}
