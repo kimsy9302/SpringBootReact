{
 "cells": [
  {
   "cell_type": "code",
   "execution_count": 7,
   "id": "363505a6-addf-485f-bcd2-289a2ae91202",
   "metadata": {},
   "outputs": [
    {
     "data": {
      "text/plain": [
       "'C:\\\\Users\\\\KSY'"
      ]
     },
     "execution_count": 7,
     "metadata": {},
     "output_type": "execute_result"
    }
   ],
   "source": [
    "pwd"
   ]
  },
  {
   "cell_type": "code",
   "execution_count": null,
   "id": "dc3d3ed4-6f57-4fc7-b847-877a38e2608e",
   "metadata": {},
   "outputs": [],
   "source": [
    "a=6"
   ]
  },
  {
   "cell_type": "markdown",
   "id": "4af3c696-2e73-4ee2-8091-7bf0dda80780",
   "metadata": {},
   "source": [
    "<img src=\"images/1.jpg\"/>"
   ]
  },
  {
   "cell_type": "markdown",
   "id": "327ef826-737f-40f6-a725-23cae8939f2d",
   "metadata": {},
   "source": [
    "<h1>dictionary</h1>"
   ]
  },
  {
   "cell_type": "code",
   "execution_count": 1,
   "id": "81a31033-245f-4d9e-8bb2-86eb0a468344",
   "metadata": {},
   "outputs": [],
   "source": [
    "a={'a':6} #Dictionary"
   ]
  },
  {
   "cell_type": "code",
   "execution_count": 2,
   "id": "b461790d-98c7-4b0f-aad5-a418c83b58b7",
   "metadata": {},
   "outputs": [],
   "source": [
    "b=[1,2,3] #List"
   ]
  },
  {
   "cell_type": "markdown",
   "id": "da807c6c-e020-4e8d-9a0e-da7edc43825a",
   "metadata": {},
   "source": [
    "a['b']=13\n",
    "a"
   ]
  },
  {
   "cell_type": "code",
   "execution_count": 13,
   "id": "ee81512f-a857-4aa8-a79d-1ce39e2857bb",
   "metadata": {},
   "outputs": [
    {
     "name": "stdout",
     "output_type": "stream",
     "text": [
      "1\n",
      "2\n",
      "3\n",
      "4\n",
      "5\n"
     ]
    }
   ],
   "source": [
    "for i in [1,2,3,4,5]:\n",
    "    print(i)"
   ]
  },
  {
   "cell_type": "code",
   "execution_count": 19,
   "id": "d5eec625-a375-4aa1-9378-0ceaebd72f28",
   "metadata": {},
   "outputs": [
    {
     "name": "stdout",
     "output_type": "stream",
     "text": [
      "6\n"
     ]
    }
   ],
   "source": [
    "sum1=0;\n",
    "for i in [1,2,3]:\n",
    "    sum1+=i\n",
    "print(sum1)"
   ]
  },
  {
   "cell_type": "code",
   "execution_count": 40,
   "id": "863a0fc5-0536-410f-9ee7-7f4f9185129c",
   "metadata": {},
   "outputs": [],
   "source": [
    "total_even=0\n",
    "total_odd=0\n",
    "cnt_even=0\n",
    "cnt_odd=0\n",
    "for i in [1,2,3]:\n",
    "    if(i%2==0):\n",
    "        total_even+=i\n",
    "        cnt_even+=1\n",
    "    else:\n",
    "        total_odd+=i\n",
    "        cnt_odd+=1"
   ]
  },
  {
   "cell_type": "code",
   "execution_count": 37,
   "id": "a192066b-da64-427c-acf6-ea7b920e45e5",
   "metadata": {},
   "outputs": [],
   "source": [
    "obj={'짝수 합': total_even, '홀수 합': total_odd, '짝수 갯수': cnt_even, '홀수 갯수': cnt_odd}"
   ]
  },
  {
   "cell_type": "code",
   "execution_count": 38,
   "id": "c256cab2-4003-4e0c-bd02-8c579de4ad24",
   "metadata": {},
   "outputs": [
    {
     "data": {
      "text/plain": [
       "{'짝수 합': 2, '홀수 합': 4, '짝수 갯수': 1, '홀수 갯수': 2}"
      ]
     },
     "execution_count": 38,
     "metadata": {},
     "output_type": "execute_result"
    }
   ],
   "source": [
    "obj"
   ]
  },
  {
   "cell_type": "code",
   "execution_count": 43,
   "id": "da7bbf56-2620-410c-8d78-42fcf61002de",
   "metadata": {},
   "outputs": [
    {
     "name": "stdout",
     "output_type": "stream",
     "text": [
      "[82, 38, 500] [11, 487]\n"
     ]
    }
   ],
   "source": [
    "even=[]\n",
    "odd=[]\n",
    "for i in list2:\n",
    "    if(i%2==0):\n",
    "        even.append(i)\n",
    "    else:\n",
    "        odd.append(i)\n",
    "print(even, odd)"
   ]
  },
  {
   "cell_type": "code",
   "execution_count": 42,
   "id": "cca2b046-334c-4b34-867b-747d675bc11d",
   "metadata": {},
   "outputs": [],
   "source": [
    "list2=[11,82,38,487,500]"
   ]
  },
  {
   "cell_type": "code",
   "execution_count": 44,
   "id": "9b5d4c8d-f0d1-4be9-938f-54d1f5d97606",
   "metadata": {},
   "outputs": [
    {
     "name": "stdout",
     "output_type": "stream",
     "text": [
      "[82, 38, 500] [11, 487]\n"
     ]
    }
   ],
   "source": [
    "even=[i for i in list2 if i%2==0]\n",
    "odd=[i for i in list2 if i%2==1]\n",
    "print(even, odd)"
   ]
  },
  {
   "cell_type": "code",
   "execution_count": 50,
   "id": "aaa8c086-3021-4d8e-81d9-c3fcdd5ff7dc",
   "metadata": {},
   "outputs": [],
   "source": [
    "array_dictionary=[ \n",
    "    {\"a\":[1,2,3,4],\"b\":[2,3,4,5]},\n",
    "    {\"a\":[11,12,13,14],\"b\":[21,31,41,51]},\n",
    "    {\"a\":[13,26,378,421],\"b\":[28,31,41,58]},\n",
    "    {\"a\":[16,288,311,423],\"b\":[20,30,40,50]}]"
   ]
  },
  {
   "cell_type": "code",
   "execution_count": 66,
   "id": "81c10713-5eda-45a8-8a7f-7fb318133033",
   "metadata": {},
   "outputs": [],
   "source": [
    "def arr_sum(i):\n",
    "    sum1=0\n",
    "    for j in i:\n",
    "        sum1+=j\n",
    "        return sum1"
   ]
  },
  {
   "cell_type": "code",
   "execution_count": 73,
   "id": "34ca5fa5-60b6-4161-95f2-1be44105f54f",
   "metadata": {},
   "outputs": [
    {
     "data": {
      "text/plain": [
       "{'a': [1, 11, 13, 16], 'b': [2, 21, 28, 20]}"
      ]
     },
     "execution_count": 73,
     "metadata": {},
     "output_type": "execute_result"
    }
   ],
   "source": [
    "result={\"a\":[],\"b\":[]}\n",
    "for i in array_dictionary:\n",
    "    result['a'].append(arr_sum(i['a']))\n",
    "    result['b'].append(arr_sum(i['b']))\n",
    "result"
   ]
  },
  {
   "cell_type": "code",
   "execution_count": 72,
   "id": "c62f7a9e-de38-4444-8834-9a394948ad00",
   "metadata": {},
   "outputs": [
    {
     "data": {
      "text/plain": [
       "{'a': [1, 11, 13, 16], 'b': [2, 21, 28, 20]}"
      ]
     },
     "execution_count": 72,
     "metadata": {},
     "output_type": "execute_result"
    }
   ],
   "source": [
    "result = {}\n",
    "for i in array_dictionary: #dictionary를 가지고 있는 list\n",
    "    for j in i.keys(): #a, b가 하나씩 돌면서 j는 처음의 a이고 다음 반복에는 b가 됨\n",
    "        if j not in result.keys(): #구하려는 result에 key가 추가되면 여기에 올 필요가 없다\n",
    "            result[j]=[]\n",
    "    result['a'].append(arr_sum(i['a']))\n",
    "    result['b'].append(arr_sum(i['b']))\n",
    "result"
   ]
  },
  {
   "cell_type": "code",
   "execution_count": null,
   "id": "e4c51e47-780c-47cd-be26-cec4c739e89b",
   "metadata": {},
   "outputs": [],
   "source": []
  },
  {
   "cell_type": "code",
   "execution_count": 75,
   "id": "666ff3ce-f1b5-4c3a-853d-fa78a207fc4e",
   "metadata": {},
   "outputs": [
    {
     "name": "stdout",
     "output_type": "stream",
     "text": [
      "0 2\n",
      "1 3\n",
      "2 4\n",
      "3 5\n"
     ]
    }
   ],
   "source": [
    "for idx, item in enumerate([2,3,4,5]):\n",
    "    print(idx,item)"
   ]
  },
  {
   "cell_type": "code",
   "execution_count": 87,
   "id": "ad409218-4193-4782-ad05-1feb16a85456",
   "metadata": {},
   "outputs": [
    {
     "name": "stdout",
     "output_type": "stream",
     "text": [
      "[33, 54, 41, 75]\n"
     ]
    }
   ],
   "source": [
    "arr1=[10,20,30,40]\n",
    "arr2=[23,34,11,35]\n",
    "arr3=[]\n",
    "for i in range(len(arr1)):\n",
    "    arr3.append(arr1[i]+arr2[i])\n",
    "print(arr3)"
   ]
  },
  {
   "cell_type": "code",
   "execution_count": 92,
   "id": "1302b777-4784-4250-b670-77b85d0035b0",
   "metadata": {},
   "outputs": [
    {
     "name": "stdout",
     "output_type": "stream",
     "text": [
      "10 23\n",
      "20 34\n",
      "30 11\n",
      "40 35\n"
     ]
    }
   ],
   "source": [
    "for (i, j) in zip(arr1,arr2):\n",
    "    print(i, j)"
   ]
  },
  {
   "cell_type": "code",
   "execution_count": 95,
   "id": "6343a78b-31d3-46c6-a21d-d09e55baab0c",
   "metadata": {},
   "outputs": [
    {
     "data": {
      "text/plain": [
       "[33, 54, 41, 75]"
      ]
     },
     "execution_count": 95,
     "metadata": {},
     "output_type": "execute_result"
    }
   ],
   "source": [
    "final_data=[]\n",
    "for (i, j) in zip(arr1,arr2):\n",
    "    final_data.append(i+j)\n",
    "final_data"
   ]
  },
  {
   "cell_type": "code",
   "execution_count": 96,
   "id": "23144beb-6a53-4d36-b9bc-6dcb4f0ee0aa",
   "metadata": {},
   "outputs": [
    {
     "data": {
      "text/plain": [
       "[33, 54, 41, 75]"
      ]
     },
     "execution_count": 96,
     "metadata": {},
     "output_type": "execute_result"
    }
   ],
   "source": [
    "final_data=[i+j for (i,j) in zip(arr1,arr2)]\n",
    "final_data"
   ]
  },
  {
   "cell_type": "code",
   "execution_count": 97,
   "id": "18e55862-79b2-497d-bc53-0aac336e6eca",
   "metadata": {},
   "outputs": [],
   "source": [
    "arr1=[10,20,30,40]\n",
    "arr2=[23,34,11,35]\n",
    "arr3=[123,134,111,135]"
   ]
  },
  {
   "cell_type": "code",
   "execution_count": 98,
   "id": "56ef73bc-1841-485c-a708-92f0ad76e88e",
   "metadata": {},
   "outputs": [
    {
     "data": {
      "text/plain": [
       "[156, 188, 152, 210]"
      ]
     },
     "execution_count": 98,
     "metadata": {},
     "output_type": "execute_result"
    }
   ],
   "source": [
    "final_data=[i+j+k for (i,j,k) in zip(arr1,arr2,arr3)]\n",
    "final_data"
   ]
  },
  {
   "cell_type": "code",
   "execution_count": 100,
   "id": "179e4dde-b5b1-4b1e-9581-a2febdb0586e",
   "metadata": {},
   "outputs": [
    {
     "data": {
      "text/plain": [
       "[{'총합': 156, '평균': 52.0},\n",
       " {'총합': 188, '평균': 62.666666666666664},\n",
       " {'총합': 152, '평균': 50.666666666666664},\n",
       " {'총합': 210, '평균': 70.0}]"
      ]
     },
     "execution_count": 100,
     "metadata": {},
     "output_type": "execute_result"
    }
   ],
   "source": [
    "final_data=[{'총합': i+j+k, '평균': (i+j+k)/3} for (i,j,k) in zip(arr1,arr2,arr3)]\n",
    "final_data"
   ]
  },
  {
   "cell_type": "code",
   "execution_count": 101,
   "id": "403a67d9-c5f9-4a65-959b-ac3af0003bca",
   "metadata": {},
   "outputs": [
    {
     "name": "stdout",
     "output_type": "stream",
     "text": [
      "a [10, 20]\n",
      "b [11, 23]\n"
     ]
    }
   ],
   "source": [
    "vvv = {'a':[10,20], 'b':[11,23]}\n",
    "for i, j in vvv.items():\n",
    "    print(i,j)"
   ]
  },
  {
   "cell_type": "code",
   "execution_count": 106,
   "id": "7c4c0402-399a-4479-bd4e-a3f838770529",
   "metadata": {},
   "outputs": [
    {
     "data": {
      "text/plain": [
       "[{'총합': 156, '평균': 52.0},\n",
       " {'총합': 188, '평균': 62.666666666666664},\n",
       " {'총합': 152, '평균': 50.666666666666664},\n",
       " {'총합': 210, '평균': 70.0}]"
      ]
     },
     "execution_count": 106,
     "metadata": {},
     "output_type": "execute_result"
    }
   ],
   "source": [
    "final_data=[{'총합': i+j+k, '평균': (i+j+k)/3} for (i,j,k) in zip(arr1,arr2,arr3)]\n",
    "final_data"
   ]
  },
  {
   "cell_type": "code",
   "execution_count": 133,
   "id": "f5e25bb6-b01d-4be6-970e-ab4a5633746d",
   "metadata": {},
   "outputs": [
    {
     "data": {
      "text/plain": [
       "{'총합평균1': 208.0,\n",
       " '총합평균2': 250.66666666666666,\n",
       " '총합평균3': 202.66666666666666,\n",
       " '총합평균4': 280.0}"
      ]
     },
     "execution_count": 133,
     "metadata": {},
     "output_type": "execute_result"
    }
   ],
   "source": [
    "result_obj={}\n",
    "for idx, i in enumerate(final_data):\n",
    "    key=''\n",
    "    item=0\n",
    "    for k, v in i.items():\n",
    "        key+=k\n",
    "        item+=v\n",
    "    result_obj.update({key+str(idx+1):item})\n",
    "result_obj"
   ]
  }
 ],
 "metadata": {
  "kernelspec": {
   "display_name": "Python 3 (ipykernel)",
   "language": "python",
   "name": "python3"
  },
  "language_info": {
   "codemirror_mode": {
    "name": "ipython",
    "version": 3
   },
   "file_extension": ".py",
   "mimetype": "text/x-python",
   "name": "python",
   "nbconvert_exporter": "python",
   "pygments_lexer": "ipython3",
   "version": "3.12.7"
  }
 },
 "nbformat": 4,
 "nbformat_minor": 5
}
